{
  "nbformat": 4,
  "nbformat_minor": 0,
  "metadata": {
    "colab": {
      "provenance": [],
      "collapsed_sections": []
    },
    "kernelspec": {
      "name": "python3",
      "display_name": "Python 3"
    },
    "language_info": {
      "name": "python"
    }
  },
  "cells": [
    {
      "cell_type": "code",
      "execution_count": 14,
      "metadata": {
        "colab": {
          "base_uri": "https://localhost:8080/"
        },
        "id": "jAVn6q7tKjSF",
        "outputId": "a7dc28b7-7c26-4025-8dcb-14f66fb974c1"
      },
      "outputs": [
        {
          "output_type": "stream",
          "name": "stdout",
          "text": [
            "              precision    recall  f1-score   support\n",
            "\n",
            "           0       1.00      1.00      1.00        50\n",
            "           1       0.94      0.94      0.94        50\n",
            "           2       0.94      0.94      0.94        50\n",
            "\n",
            "    accuracy                           0.96       150\n",
            "   macro avg       0.96      0.96      0.96       150\n",
            "weighted avg       0.96      0.96      0.96       150\n",
            "\n",
            "[[50  0  0]\n",
            " [ 0 47  3]\n",
            " [ 0  3 47]]\n",
            "0.94\n"
          ]
        }
      ],
      "source": [
        "from sklearn import datasets\n",
        "from statistics import mean\n",
        "from sklearn import metrics\n",
        "from sklearn.naive_bayes import GaussianNB\n",
        "from sklearn.model_selection import cross_val_score\n",
        "dataset=datasets.load_iris()\n",
        "X, y = datasets.load_iris(return_X_y = True, as_frame = False)\n",
        "nb = GaussianNB()\n",
        "\n",
        "\n",
        "\n",
        "\n",
        "nb.fit(dataset.data,dataset.target)\n",
        "expected=dataset.target\n",
        "predicted=nb.predict(dataset.data)\n",
        "\n",
        "print(metrics.classification_report(expected,predicted))\n",
        "print(metrics.confusion_matrix(expected,predicted))\n",
        "\n",
        "crossVal = cross_val_score(nb, X, y, cv = 3)\n",
        "print(mean(crossVal))"
      ]
    }
  ]
}